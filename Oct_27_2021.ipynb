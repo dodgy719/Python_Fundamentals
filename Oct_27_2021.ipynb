{
 "cells": [
  {
   "cell_type": "markdown",
   "metadata": {},
   "source": [
    "# FizzBuzz problem\n",
    "\n",
    "Given an integer, I want you to return a list with all the numbers till that integer. Except if a no is divisble by 3 replace it by \"FIZZ\", if divisible by 5 replace it by \"BUZZ\", if divisible by 15 replace it by \"FIZZBUZZ\"\n",
    "\n",
    "```\n",
    "Input: n = 15\n",
    "Output: [\"1\",\"2\",\"Fizz\",\"4\",\"Buzz\",\"Fizz\",\"7\",\"8\",\"Fizz\",\"Buzz\",\"11\",\"Fizz\",\"13\",\"14\",\"FizzBuzz\"]\n",
    "```"
   ]
  },
  {
   "cell_type": "code",
   "execution_count": 22,
   "metadata": {
    "ExecuteTime": {
     "end_time": "2021-10-27T23:33:20.375190Z",
     "start_time": "2021-10-27T23:33:20.371983Z"
    }
   },
   "outputs": [],
   "source": [
    "def fizzbuzz(n):\n",
    "    answer = []\n",
    "    for num in range(1,n+1):\n",
    "        if num % 15 == 0:\n",
    "            answer.append(\"FizzBuzz\")\n",
    "        elif num % 5 == 0:\n",
    "            answer.append(\"Buzz\")\n",
    "        elif num % 3 == 0:\n",
    "            answer.append(\"Fizz\")\n",
    "        else:\n",
    "            answer.append(num)\n",
    "    return answer"
   ]
  },
  {
   "cell_type": "code",
   "execution_count": 30,
   "metadata": {
    "ExecuteTime": {
     "end_time": "2021-10-27T23:35:56.868833Z",
     "start_time": "2021-10-27T23:35:56.865871Z"
    }
   },
   "outputs": [],
   "source": [
    "def fizz(n):\n",
    "    answer = []\n",
    "    num = 1\n",
    "    while num <= n :\n",
    "        if num % 15 == 0:\n",
    "            answer.append(\"FizzBuzz\")\n",
    "        elif num % 5 == 0:\n",
    "            answer.append(\"Buzz\")\n",
    "        elif num % 3 == 0:\n",
    "            answer.append(\"Fizz\")\n",
    "        else:\n",
    "            answer.append(num)\n",
    "        num = num + 1\n",
    "    return answer"
   ]
  },
  {
   "cell_type": "code",
   "execution_count": 31,
   "metadata": {
    "ExecuteTime": {
     "end_time": "2021-10-27T23:35:57.189585Z",
     "start_time": "2021-10-27T23:35:57.183797Z"
    }
   },
   "outputs": [
    {
     "data": {
      "text/plain": [
       "[1,\n",
       " 2,\n",
       " 'Fizz',\n",
       " 4,\n",
       " 'Buzz',\n",
       " 'Fizz',\n",
       " 7,\n",
       " 8,\n",
       " 'Fizz',\n",
       " 'Buzz',\n",
       " 11,\n",
       " 'Fizz',\n",
       " 13,\n",
       " 14,\n",
       " 'FizzBuzz']"
      ]
     },
     "execution_count": 31,
     "metadata": {},
     "output_type": "execute_result"
    }
   ],
   "source": [
    "fizz(15)"
   ]
  },
  {
   "cell_type": "markdown",
   "metadata": {},
   "source": [
    "# Reverse a string\n",
    "\n",
    "Write a function that reverses a string. The input string is given as an array of characters s.\n",
    "[Link to the problem](https://leetcode.com/problems/reverse-string/)\n",
    "\n",
    "Constraints:\n",
    "\n",
    "- 1 <= s.length <= 105\n",
    "- s[i] is a printable ascii character.\n",
    "\n",
    "```Input: s = [\"h\",\"e\",\"l\",\"l\",\"o\"]\n",
    "Output: [\"o\",\"l\",\"l\",\"e\",\"h\"]```\n",
    "\n",
    "```Input: s = [\"H\",\"a\",\"n\",\"n\",\"a\",\"h\"]\n",
    "Output: [\"h\",\"a\",\"n\",\"n\",\"a\",\"H\"]```"
   ]
  },
  {
   "cell_type": "code",
   "execution_count": null,
   "metadata": {},
   "outputs": [],
   "source": [
    "l = [\"j\", \"k\", \"l\"]\n",
    "l = [\"l\", \"k\", \"j\"]"
   ]
  },
  {
   "cell_type": "code",
   "execution_count": 35,
   "metadata": {
    "ExecuteTime": {
     "end_time": "2021-10-27T23:37:12.624758Z",
     "start_time": "2021-10-27T23:37:12.622626Z"
    }
   },
   "outputs": [],
   "source": [
    "s = \"Hi\""
   ]
  },
  {
   "cell_type": "code",
   "execution_count": 43,
   "metadata": {
    "ExecuteTime": {
     "end_time": "2021-10-27T23:48:39.072427Z",
     "start_time": "2021-10-27T23:48:39.068341Z"
    }
   },
   "outputs": [],
   "source": [
    "def reverse_string(h):\n",
    "    left = 0\n",
    "    right = len(h) - 1\n",
    "    temp = 0\n",
    "    while(left < right):\n",
    "        temp = h[left] \n",
    "        h[left] = h[right]\n",
    "        h[right] = temp\n",
    "        left = left + 1\n",
    "        left += 1\n",
    "        right = right - 1\n",
    "    return h"
   ]
  },
  {
   "cell_type": "code",
   "execution_count": null,
   "metadata": {},
   "outputs": [],
   "source": [
    "def reverse(x):\n",
    "    answer = x[::-1]\n",
    "    return answer"
   ]
  },
  {
   "cell_type": "code",
   "execution_count": 44,
   "metadata": {
    "ExecuteTime": {
     "end_time": "2021-10-27T23:48:39.361784Z",
     "start_time": "2021-10-27T23:48:39.358048Z"
    },
    "scrolled": true
   },
   "outputs": [
    {
     "data": {
      "text/plain": [
       "['l', 'k', 'j']"
      ]
     },
     "execution_count": 44,
     "metadata": {},
     "output_type": "execute_result"
    }
   ],
   "source": [
    "l = [\"j\", \"k\", \"l\"]\n",
    "reverse_string(l)"
   ]
  },
  {
   "cell_type": "markdown",
   "metadata": {},
   "source": [
    "# Two Sum\n",
    "\n",
    "Given a list of integers nums and an integer target, return indices of the two numbers such that they add up to target.\n",
    "\n",
    "You may assume that each input would have exactly one solution, and you may not use the same element twice.  \n",
    "[Link to the problem description](https://leetcode.com/problems/two-sum/)\n",
    "\n",
    "Constraints:\n",
    "\n",
    "- 2 <= nums.length <= 104\n",
    "- -109 <= nums[i] <= 109\n",
    "- -109 <= target <= 109\n",
    "- Only one valid answer exists.\n",
    "\n",
    "```Input: nums = [2,7,11,15], target = 9\n",
    "Output: [0,1]\n",
    "Output: Because nums[0] + nums[1] == 9, we return [0, 1].```\n",
    "\n",
    "```Input: nums = [3,2,4], target = 6\n",
    "Output: [1,2]```\n",
    "\n",
    "```Input: nums = [3,3], target = 6\n",
    "Output: [0,1]```"
   ]
  },
  {
   "cell_type": "code",
   "execution_count": 48,
   "metadata": {
    "ExecuteTime": {
     "end_time": "2021-10-27T23:59:41.505280Z",
     "start_time": "2021-10-27T23:59:41.503107Z"
    }
   },
   "outputs": [],
   "source": [
    "info = {\n",
    "  \"cost_price\": 2.77,\n",
    "  \"sell_price\": 7.95,\n",
    "  \"inventory\": 8500\n",
    "}"
   ]
  },
  {
   "cell_type": "code",
   "execution_count": 49,
   "metadata": {
    "ExecuteTime": {
     "end_time": "2021-10-27T23:59:41.794180Z",
     "start_time": "2021-10-27T23:59:41.791816Z"
    }
   },
   "outputs": [],
   "source": [
    "def profit(info):\n",
    "    total_cost = info[\"cost_price\"]*info[\"inventory\"]\n",
    "    total_sell_price = info[\"sell_price\"]*info[\"inventory\"]\n",
    "    total_profit = total_sell_price - total_cost\n",
    "    return total_profit"
   ]
  },
  {
   "cell_type": "code",
   "execution_count": 50,
   "metadata": {
    "ExecuteTime": {
     "end_time": "2021-10-27T23:59:42.353537Z",
     "start_time": "2021-10-27T23:59:42.344044Z"
    }
   },
   "outputs": [
    {
     "data": {
      "text/plain": [
       "44030.0"
      ]
     },
     "execution_count": 50,
     "metadata": {},
     "output_type": "execute_result"
    }
   ],
   "source": [
    "profit(info)"
   ]
  },
  {
   "cell_type": "code",
   "execution_count": null,
   "metadata": {},
   "outputs": [],
   "source": []
  }
 ],
 "metadata": {
  "kernelspec": {
   "display_name": "Python 3",
   "language": "python",
   "name": "python3"
  },
  "language_info": {
   "codemirror_mode": {
    "name": "ipython",
    "version": 3
   },
   "file_extension": ".py",
   "mimetype": "text/x-python",
   "name": "python",
   "nbconvert_exporter": "python",
   "pygments_lexer": "ipython3",
   "version": "3.8.5"
  },
  "toc": {
   "base_numbering": 1,
   "nav_menu": {},
   "number_sections": true,
   "sideBar": true,
   "skip_h1_title": false,
   "title_cell": "Table of Contents",
   "title_sidebar": "Contents",
   "toc_cell": false,
   "toc_position": {},
   "toc_section_display": true,
   "toc_window_display": false
  },
  "varInspector": {
   "cols": {
    "lenName": 16,
    "lenType": 16,
    "lenVar": 40
   },
   "kernels_config": {
    "python": {
     "delete_cmd_postfix": "",
     "delete_cmd_prefix": "del ",
     "library": "var_list.py",
     "varRefreshCmd": "print(var_dic_list())"
    },
    "r": {
     "delete_cmd_postfix": ") ",
     "delete_cmd_prefix": "rm(",
     "library": "var_list.r",
     "varRefreshCmd": "cat(var_dic_list()) "
    }
   },
   "types_to_exclude": [
    "module",
    "function",
    "builtin_function_or_method",
    "instance",
    "_Feature"
   ],
   "window_display": false
  }
 },
 "nbformat": 4,
 "nbformat_minor": 4
}
